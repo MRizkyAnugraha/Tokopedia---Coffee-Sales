{
 "cells": [
  {
   "cell_type": "code",
   "execution_count": 1,
   "id": "33b57381",
   "metadata": {},
   "outputs": [],
   "source": [
    "#!pip install beautifulsoup4"
   ]
  },
  {
   "cell_type": "code",
   "execution_count": 2,
   "id": "6c6afd6d",
   "metadata": {},
   "outputs": [],
   "source": [
    "#!pip install selenium"
   ]
  },
  {
   "cell_type": "code",
   "execution_count": 3,
   "id": "f2cfaa81",
   "metadata": {
    "scrolled": true
   },
   "outputs": [],
   "source": [
    "import time\n",
    "from selenium import webdriver\n",
    "from bs4 import BeautifulSoup\n",
    "import pandas as pd\n",
    "from selenium.webdriver.support.ui import WebDriverWait\n",
    "from selenium.webdriver.support import expected_conditions as EC\n",
    "from selenium.webdriver.common.by import By\n",
    "from selenium.webdriver.chrome.service import Service"
   ]
  },
  {
   "cell_type": "code",
   "execution_count": 16,
   "id": "65be4ceb",
   "metadata": {
    "scrolled": false
   },
   "outputs": [
    {
     "name": "stdout",
     "output_type": "stream",
     "text": [
      "                                             Nama Produk      Harga Diskon  \\\n",
      "0      ARUTALA Kopi Lampung Robusta Coffee 500 Gram -...  Rp 71.999    22%   \n",
      "1      ARUTALA Kopi Flores Robusta Coffee 250 gram - ...  Rp 36.999    20%   \n",
      "2      ARUTALA Kopi Flores Robusta Coffee 500 gram - ...  Rp 71.999    22%   \n",
      "3           Kopi Robusta Dampit Natural 1kg (biji/bubuk)   Rp75.000     0%   \n",
      "4      1KG ROAST BEAN ROBUSTA TEMANGGUNG JUAL BIJI KO...   Rp70.000     0%   \n",
      "...                                                  ...        ...    ...   \n",
      "20745  Kopi Biji Sangrai Robusta Semendo ( 1kg ) - Bi...   Rp72.000     0%   \n",
      "20746    El's Coffee Robusta Bundle - Paket Kopi Robusta  Rp132.000     0%   \n",
      "20747  Kopi Biji Sangrai Robusta Pagaralam Super ( 1k...   Rp72.000     0%   \n",
      "20748  KOPI SUSU BLEND 50/50 ARABIKA ROBUSTA - HALFTO...   Rp59.000     0%   \n",
      "20749  Kopi Robusta Sidikalang - Roasted Bean - 200 G...   Rp28.500     5%   \n",
      "\n",
      "      Harga Sebelum Diskon          Lokasi                Toko Rating  \\\n",
      "0                Rp 92.600               -  Arutala Online Co.    5.0   \n",
      "1                Rp 46.300               -  Arutala Online Co.    4.9   \n",
      "2                Rp 92.600               -  Arutala Online Co.    5.0   \n",
      "3                 Rp75.000     Kab. Malang       filosofi cafe    5.0   \n",
      "4                 Rp70.000        Magelang  Borobudur Roastery    4.9   \n",
      "...                    ...             ...                 ...    ...   \n",
      "20745             Rp72.000       Palembang           KOPI PIKO    4.9   \n",
      "20746            Rp132.000  Bandar Lampung         EL'S COFFEE    4.9   \n",
      "20747             Rp72.000       Palembang           KOPI PIKO    5.0   \n",
      "20748             Rp59.000   Jakarta Utara        Axy Roastery      0   \n",
      "20749             Rp30.000           Medan       Hatana Coffee    4.9   \n",
      "\n",
      "             Terjual  \n",
      "0      Terjual 1 rb+  \n",
      "1      Terjual 5 rb+  \n",
      "2      Terjual 1 rb+  \n",
      "3      Terjual 4 rb+  \n",
      "4      Terjual 7 rb+  \n",
      "...              ...  \n",
      "20745  Terjual 2 rb+  \n",
      "20746   Terjual 100+  \n",
      "20747   Terjual 500+  \n",
      "20748      Terjual 3  \n",
      "20749   Terjual 250+  \n",
      "\n",
      "[20750 rows x 8 columns]\n"
     ]
    }
   ],
   "source": [
    "#url1 = 'https://www.tokopedia.com/search?navsource=home&sc=2788&source=universe&srp_component_id=04.06.00.00&st=product&q=kopi%20arabika'\n",
    "#url2 = 'https://www.tokopedia.com/search?st=product&q=kopi%20roasted%20beans&srp_component_id=02.01.00.00&srp_page_id=&srp_page_title=&navsource='\n",
    "#url3 = 'https://www.tokopedia.com/search?st=product&q=kopi%20robusta&srp_component_id=02.01.00.00&navsource=home&srp_page_id=&srp_page_title=&navsource=home'\n",
    "#url4 = 'https://www.tokopedia.com/search?st=product&q=kopi%20liberika&srp_component_id=02.01.00.00&srp_page_id=&srp_page_title=&navsource=home,home'\n",
    "\n",
    "\n",
    "data =[]\n",
    "for j in range(250):\n",
    "    #---------------------------------------------------------\n",
    "    #opening chrome\n",
    "    service = Service('C:\\Chromedriver\\chromedriver.exe')\n",
    "    driver = webdriver.Chrome(service=service)\n",
    "\n",
    "    #driver = webdriver.Chrome('C:\\Chromedriver\\chromedriver.exe')\n",
    "    driver.get(url)\n",
    "\n",
    "    WebDriverWait(driver, 5).until(EC.presence_of_element_located((By.CSS_SELECTOR, \"#zeus-root\")))\n",
    "    time.sleep(8)\n",
    "\n",
    "    #for i in range(20):\n",
    "    for i in range(22):\n",
    "        driver.execute_script('window.scrollBy(0, 250)')\n",
    "        time.sleep(2)\n",
    "\n",
    "    driver.execute_script('window.scrollBy(50, 0)')\n",
    "    time.sleep(2)\n",
    "\n",
    "    soup = BeautifulSoup(driver.page_source, 'html.parser')\n",
    "    #print(soup)\n",
    "\n",
    "    # ----------------------------------------------------------\n",
    "    \n",
    "    #scraping data\n",
    "    for item in soup.findAll(class_='css-1rzg7ys'):\n",
    "        tokoiklan = item.find('span', class_='css-1c8anh1').text\n",
    "\n",
    "\n",
    "    for item in soup.findAll('div', class_='css-974ipl'):\n",
    "        nama_produk = item.find('div', class_='prd_link-product-name css-3um8ox').text\n",
    "        harga = item.find('div', class_='prd_link-product-price css-1ksb19c').text\n",
    "        if item.find('div', class_='prd_badge-product-discount css-1qtulwh') is not None:\n",
    "            diskon = item.find('div', class_='prd_badge-product-discount css-1qtulwh').text\n",
    "        else:\n",
    "            diskon = '0%'\n",
    "        if item.find('div', class_='prd_label-product-slash-price css-1u1z2kp') is not None:\n",
    "            harga_sebelum_diskon = item.find('div', class_='prd_label-product-slash-price css-1u1z2kp').text\n",
    "        else:\n",
    "            harga_sebelum_diskon = harga\n",
    "        if item.find('span', class_='prd_link-shop-loc css-1kdc32b flip') is not None:\n",
    "            lokasi = item.find('span', class_='prd_link-shop-loc css-1kdc32b flip').text\n",
    "        else:\n",
    "            lokasi = '-'\n",
    "        if item.find('span', class_='prd_link-shop-name css-1kdc32b flip') is not None:\n",
    "            toko = item.find('span', class_='prd_link-shop-name css-1kdc32b flip').text\n",
    "        else:\n",
    "            toko = tokoiklan\n",
    "        if item.find('span', class_='prd_rating-average-text css-t70v7i') is not None:\n",
    "            rating = item.find('span', class_='prd_rating-average-text css-t70v7i').text\n",
    "        else:\n",
    "            rating = '0'\n",
    "        if item.find('span', class_='prd_label-integrity css-1duhs3e') is not None:\n",
    "            terjual = item.find('span', class_='prd_label-integrity css-1duhs3e').text\n",
    "        else:\n",
    "            terjual = '0'\n",
    "\n",
    "\n",
    "        #pcv3__container css-gfx8z3\n",
    "\n",
    "        data.append(\n",
    "            (nama_produk, harga, diskon, harga_sebelum_diskon, lokasi, toko, rating, terjual)\n",
    "            )\n",
    "\n",
    "    # print(nama_produk)\n",
    "    # print(harga)\n",
    "    # print(diskon)\n",
    "    # print(harga_sebelum_diskon)\n",
    "    # print(lokasi)\n",
    "    # print(toko)\n",
    "    # print(rating)\n",
    "    # print(terjual)\n",
    "    # print('------------------------------------------------------')\n",
    "\n",
    "    time.sleep(6)\n",
    "    driver.find_element(By.CSS_SELECTOR, \"button[aria-label='Laman berikutnya']\").click()\n",
    "    time.sleep(8)\n",
    "\n",
    "    \n",
    "df = pd.DataFrame(data, columns=['Nama Produk', 'Harga', 'Diskon', 'Harga Sebelum Diskon', 'Lokasi', 'Toko', 'Rating', 'Terjual'])\n",
    "print(df)\n",
    "\n",
    "\n",
    "driver.close()"
   ]
  },
  {
   "cell_type": "code",
   "execution_count": 17,
   "id": "b9830fed",
   "metadata": {},
   "outputs": [
    {
     "name": "stdout",
     "output_type": "stream",
     "text": [
      "Data telah tersimpan\n"
     ]
    }
   ],
   "source": [
    "#saving to csv\n",
    "df.to_csv('Tokopedia Data Scrap 3 - Kopi.csv', index=False)\n",
    "print('Data telah tersimpan')"
   ]
  },
  {
   "cell_type": "code",
   "execution_count": null,
   "id": "5554d9ad",
   "metadata": {},
   "outputs": [],
   "source": []
  },
  {
   "cell_type": "code",
   "execution_count": null,
   "id": "cc26043c",
   "metadata": {},
   "outputs": [],
   "source": []
  },
  {
   "cell_type": "code",
   "execution_count": null,
   "id": "4120ddaf",
   "metadata": {
    "collapsed": true
   },
   "outputs": [],
   "source": []
  },
  {
   "cell_type": "code",
   "execution_count": null,
   "id": "719dcf1b",
   "metadata": {},
   "outputs": [],
   "source": []
  },
  {
   "cell_type": "code",
   "execution_count": null,
   "id": "dd60ae91",
   "metadata": {},
   "outputs": [],
   "source": []
  }
 ],
 "metadata": {
  "kernelspec": {
   "display_name": "Python 3 (ipykernel)",
   "language": "python",
   "name": "python3"
  },
  "language_info": {
   "codemirror_mode": {
    "name": "ipython",
    "version": 3
   },
   "file_extension": ".py",
   "mimetype": "text/x-python",
   "name": "python",
   "nbconvert_exporter": "python",
   "pygments_lexer": "ipython3",
   "version": "3.9.13"
  }
 },
 "nbformat": 4,
 "nbformat_minor": 5
}
